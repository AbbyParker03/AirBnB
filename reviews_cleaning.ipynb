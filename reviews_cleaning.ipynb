{
 "cells": [
  {
   "cell_type": "markdown",
   "metadata": {},
   "source": [
    "# Installing the packages"
   ]
  },
  {
   "cell_type": "code",
   "execution_count": 2,
   "metadata": {},
   "outputs": [
    {
     "name": "stdout",
     "output_type": "stream",
     "text": [
      "Requirement already satisfied: requests in c:\\users\\hongdingzhang\\anaconda3\\lib\\site-packages (2.32.2)\n",
      "Requirement already satisfied: charset-normalizer<4,>=2 in c:\\users\\hongdingzhang\\anaconda3\\lib\\site-packages (from requests) (2.0.4)\n",
      "Requirement already satisfied: idna<4,>=2.5 in c:\\users\\hongdingzhang\\anaconda3\\lib\\site-packages (from requests) (3.7)\n",
      "Requirement already satisfied: urllib3<3,>=1.21.1 in c:\\users\\hongdingzhang\\anaconda3\\lib\\site-packages (from requests) (2.2.2)\n",
      "Requirement already satisfied: certifi>=2017.4.17 in c:\\users\\hongdingzhang\\anaconda3\\lib\\site-packages (from requests) (2024.8.30)\n",
      "Note: you may need to restart the kernel to use updated packages.\n"
     ]
    }
   ],
   "source": [
    "pip install requests\n"
   ]
  },
  {
   "cell_type": "code",
   "execution_count": 3,
   "metadata": {},
   "outputs": [],
   "source": [
    "import os\n",
    "import pandas as pd\n",
    "import openai\n",
    "import requests"
   ]
  },
  {
   "cell_type": "code",
   "execution_count": 4,
   "metadata": {},
   "outputs": [
    {
     "data": {
      "text/plain": [
       "'c:\\\\Users\\\\HongdingZhang\\\\OneDrive - Harnham Search and Selection Ltd\\\\airbnb_project\\\\AirBnB'"
      ]
     },
     "execution_count": 4,
     "metadata": {},
     "output_type": "execute_result"
    }
   ],
   "source": [
    "os.getcwd()"
   ]
  },
  {
   "cell_type": "code",
   "execution_count": 5,
   "metadata": {},
   "outputs": [],
   "source": [
    "os.chdir('../datasets')"
   ]
  },
  {
   "cell_type": "code",
   "execution_count": 6,
   "metadata": {},
   "outputs": [
    {
     "data": {
      "text/plain": [
       "'c:\\\\Users\\\\HongdingZhang\\\\OneDrive - Harnham Search and Selection Ltd\\\\airbnb_project\\\\datasets'"
      ]
     },
     "execution_count": 6,
     "metadata": {},
     "output_type": "execute_result"
    }
   ],
   "source": [
    "os.getcwd()"
   ]
  },
  {
   "cell_type": "markdown",
   "metadata": {},
   "source": [
    "## Reading in the reviews file for AirBnB listings in Paris, France "
   ]
  },
  {
   "cell_type": "code",
   "execution_count": 7,
   "metadata": {},
   "outputs": [
    {
     "data": {
      "text/html": [
       "<div>\n",
       "<style scoped>\n",
       "    .dataframe tbody tr th:only-of-type {\n",
       "        vertical-align: middle;\n",
       "    }\n",
       "\n",
       "    .dataframe tbody tr th {\n",
       "        vertical-align: top;\n",
       "    }\n",
       "\n",
       "    .dataframe thead th {\n",
       "        text-align: right;\n",
       "    }\n",
       "</style>\n",
       "<table border=\"1\" class=\"dataframe\">\n",
       "  <thead>\n",
       "    <tr style=\"text-align: right;\">\n",
       "      <th></th>\n",
       "      <th>listing_id</th>\n",
       "      <th>id</th>\n",
       "      <th>date</th>\n",
       "      <th>reviewer_id</th>\n",
       "      <th>reviewer_name</th>\n",
       "      <th>comments</th>\n",
       "    </tr>\n",
       "  </thead>\n",
       "  <tbody>\n",
       "    <tr>\n",
       "      <th>0</th>\n",
       "      <td>3109</td>\n",
       "      <td>207127433</td>\n",
       "      <td>2017-10-28</td>\n",
       "      <td>51636494</td>\n",
       "      <td>Patricia</td>\n",
       "      <td>Tout s'est bien déroulé. Merci bien. PG</td>\n",
       "    </tr>\n",
       "    <tr>\n",
       "      <th>1</th>\n",
       "      <td>3109</td>\n",
       "      <td>208779822</td>\n",
       "      <td>2017-11-03</td>\n",
       "      <td>4142888</td>\n",
       "      <td>Patricia</td>\n",
       "      <td>Un petit nid fouiller douillet situé dans  app...</td>\n",
       "    </tr>\n",
       "    <tr>\n",
       "      <th>2</th>\n",
       "      <td>3109</td>\n",
       "      <td>295840159</td>\n",
       "      <td>2018-07-24</td>\n",
       "      <td>7415343</td>\n",
       "      <td>Laurent</td>\n",
       "      <td>Appartement spacieux, propre,clair, et calme à...</td>\n",
       "    </tr>\n",
       "    <tr>\n",
       "      <th>3</th>\n",
       "      <td>3109</td>\n",
       "      <td>553502638</td>\n",
       "      <td>2019-10-24</td>\n",
       "      <td>21159216</td>\n",
       "      <td>Anastasia</td>\n",
       "      <td>Appartement totalement rénové, en parfait état...</td>\n",
       "    </tr>\n",
       "    <tr>\n",
       "      <th>4</th>\n",
       "      <td>5396</td>\n",
       "      <td>4824</td>\n",
       "      <td>2009-06-30</td>\n",
       "      <td>19995</td>\n",
       "      <td>Sarah</td>\n",
       "      <td>Perfect location!! Nasrine was a delight and m...</td>\n",
       "    </tr>\n",
       "  </tbody>\n",
       "</table>\n",
       "</div>"
      ],
      "text/plain": [
       "   listing_id         id        date  reviewer_id reviewer_name  \\\n",
       "0        3109  207127433  2017-10-28     51636494      Patricia   \n",
       "1        3109  208779822  2017-11-03      4142888      Patricia   \n",
       "2        3109  295840159  2018-07-24      7415343       Laurent   \n",
       "3        3109  553502638  2019-10-24     21159216     Anastasia   \n",
       "4        5396       4824  2009-06-30        19995         Sarah   \n",
       "\n",
       "                                            comments  \n",
       "0            Tout s'est bien déroulé. Merci bien. PG  \n",
       "1  Un petit nid fouiller douillet situé dans  app...  \n",
       "2  Appartement spacieux, propre,clair, et calme à...  \n",
       "3  Appartement totalement rénové, en parfait état...  \n",
       "4  Perfect location!! Nasrine was a delight and m...  "
      ]
     },
     "execution_count": 7,
     "metadata": {},
     "output_type": "execute_result"
    }
   ],
   "source": [
    "rev_df = pd.read_csv('reviews.csv.gz', compression='gzip')\n",
    "rev_df.head()"
   ]
  },
  {
   "cell_type": "markdown",
   "metadata": {},
   "source": [
    "### Checking for nulls "
   ]
  },
  {
   "cell_type": "code",
   "execution_count": 8,
   "metadata": {},
   "outputs": [
    {
     "data": {
      "text/plain": [
       "listing_id         0\n",
       "id                 0\n",
       "date               0\n",
       "reviewer_id        0\n",
       "reviewer_name      2\n",
       "comments         123\n",
       "dtype: int64"
      ]
     },
     "execution_count": 8,
     "metadata": {},
     "output_type": "execute_result"
    }
   ],
   "source": [
    "rev_df.isnull().sum()"
   ]
  },
  {
   "cell_type": "markdown",
   "metadata": {},
   "source": [
    "### Dropping the reviewer name as this is not needed in the analysis"
   ]
  },
  {
   "cell_type": "code",
   "execution_count": 9,
   "metadata": {},
   "outputs": [
    {
     "data": {
      "text/html": [
       "<div>\n",
       "<style scoped>\n",
       "    .dataframe tbody tr th:only-of-type {\n",
       "        vertical-align: middle;\n",
       "    }\n",
       "\n",
       "    .dataframe tbody tr th {\n",
       "        vertical-align: top;\n",
       "    }\n",
       "\n",
       "    .dataframe thead th {\n",
       "        text-align: right;\n",
       "    }\n",
       "</style>\n",
       "<table border=\"1\" class=\"dataframe\">\n",
       "  <thead>\n",
       "    <tr style=\"text-align: right;\">\n",
       "      <th></th>\n",
       "      <th>listing_id</th>\n",
       "      <th>id</th>\n",
       "      <th>date</th>\n",
       "      <th>reviewer_id</th>\n",
       "      <th>comments</th>\n",
       "    </tr>\n",
       "  </thead>\n",
       "  <tbody>\n",
       "    <tr>\n",
       "      <th>0</th>\n",
       "      <td>3109</td>\n",
       "      <td>207127433</td>\n",
       "      <td>2017-10-28</td>\n",
       "      <td>51636494</td>\n",
       "      <td>Tout s'est bien déroulé. Merci bien. PG</td>\n",
       "    </tr>\n",
       "    <tr>\n",
       "      <th>1</th>\n",
       "      <td>3109</td>\n",
       "      <td>208779822</td>\n",
       "      <td>2017-11-03</td>\n",
       "      <td>4142888</td>\n",
       "      <td>Un petit nid fouiller douillet situé dans  app...</td>\n",
       "    </tr>\n",
       "    <tr>\n",
       "      <th>2</th>\n",
       "      <td>3109</td>\n",
       "      <td>295840159</td>\n",
       "      <td>2018-07-24</td>\n",
       "      <td>7415343</td>\n",
       "      <td>Appartement spacieux, propre,clair, et calme à...</td>\n",
       "    </tr>\n",
       "    <tr>\n",
       "      <th>3</th>\n",
       "      <td>3109</td>\n",
       "      <td>553502638</td>\n",
       "      <td>2019-10-24</td>\n",
       "      <td>21159216</td>\n",
       "      <td>Appartement totalement rénové, en parfait état...</td>\n",
       "    </tr>\n",
       "    <tr>\n",
       "      <th>4</th>\n",
       "      <td>5396</td>\n",
       "      <td>4824</td>\n",
       "      <td>2009-06-30</td>\n",
       "      <td>19995</td>\n",
       "      <td>Perfect location!! Nasrine was a delight and m...</td>\n",
       "    </tr>\n",
       "    <tr>\n",
       "      <th>...</th>\n",
       "      <td>...</td>\n",
       "      <td>...</td>\n",
       "      <td>...</td>\n",
       "      <td>...</td>\n",
       "      <td>...</td>\n",
       "    </tr>\n",
       "    <tr>\n",
       "      <th>1999645</th>\n",
       "      <td>1236935838120106698</td>\n",
       "      <td>1243420523739709927</td>\n",
       "      <td>2024-09-11</td>\n",
       "      <td>430914385</td>\n",
       "      <td>excellent</td>\n",
       "    </tr>\n",
       "    <tr>\n",
       "      <th>1999646</th>\n",
       "      <td>1237019610223238525</td>\n",
       "      <td>1241222639331655295</td>\n",
       "      <td>2024-09-08</td>\n",
       "      <td>11879784</td>\n",
       "      <td>Très bel appartement parisien, avec une belle ...</td>\n",
       "    </tr>\n",
       "    <tr>\n",
       "      <th>1999647</th>\n",
       "      <td>1237042259061485682</td>\n",
       "      <td>1241152955077433804</td>\n",
       "      <td>2024-09-08</td>\n",
       "      <td>463363270</td>\n",
       "      <td>Appartement très propre et cosy le balcon est ...</td>\n",
       "    </tr>\n",
       "    <tr>\n",
       "      <th>1999648</th>\n",
       "      <td>1237042259061485682</td>\n",
       "      <td>1242696770405093531</td>\n",
       "      <td>2024-09-10</td>\n",
       "      <td>146476597</td>\n",
       "      <td>Perfekte Wohnung 5 Sterne,&lt;br/&gt;freundlicher Ga...</td>\n",
       "    </tr>\n",
       "    <tr>\n",
       "      <th>1999649</th>\n",
       "      <td>1237081091596854348</td>\n",
       "      <td>1241169909489423311</td>\n",
       "      <td>2024-09-08</td>\n",
       "      <td>417122992</td>\n",
       "      <td>Super week-end passé dans ce logement, on ne s...</td>\n",
       "    </tr>\n",
       "  </tbody>\n",
       "</table>\n",
       "<p>1999650 rows × 5 columns</p>\n",
       "</div>"
      ],
      "text/plain": [
       "                  listing_id                   id        date  reviewer_id  \\\n",
       "0                       3109            207127433  2017-10-28     51636494   \n",
       "1                       3109            208779822  2017-11-03      4142888   \n",
       "2                       3109            295840159  2018-07-24      7415343   \n",
       "3                       3109            553502638  2019-10-24     21159216   \n",
       "4                       5396                 4824  2009-06-30        19995   \n",
       "...                      ...                  ...         ...          ...   \n",
       "1999645  1236935838120106698  1243420523739709927  2024-09-11    430914385   \n",
       "1999646  1237019610223238525  1241222639331655295  2024-09-08     11879784   \n",
       "1999647  1237042259061485682  1241152955077433804  2024-09-08    463363270   \n",
       "1999648  1237042259061485682  1242696770405093531  2024-09-10    146476597   \n",
       "1999649  1237081091596854348  1241169909489423311  2024-09-08    417122992   \n",
       "\n",
       "                                                  comments  \n",
       "0                  Tout s'est bien déroulé. Merci bien. PG  \n",
       "1        Un petit nid fouiller douillet situé dans  app...  \n",
       "2        Appartement spacieux, propre,clair, et calme à...  \n",
       "3        Appartement totalement rénové, en parfait état...  \n",
       "4        Perfect location!! Nasrine was a delight and m...  \n",
       "...                                                    ...  \n",
       "1999645                                          excellent  \n",
       "1999646  Très bel appartement parisien, avec une belle ...  \n",
       "1999647  Appartement très propre et cosy le balcon est ...  \n",
       "1999648  Perfekte Wohnung 5 Sterne,<br/>freundlicher Ga...  \n",
       "1999649  Super week-end passé dans ce logement, on ne s...  \n",
       "\n",
       "[1999650 rows x 5 columns]"
      ]
     },
     "execution_count": 9,
     "metadata": {},
     "output_type": "execute_result"
    }
   ],
   "source": [
    "rev_df = rev_df.drop('reviewer_name', axis = 1)\n",
    "rev_df"
   ]
  },
  {
   "cell_type": "code",
   "execution_count": 10,
   "metadata": {},
   "outputs": [
    {
     "data": {
      "text/html": [
       "<div>\n",
       "<style scoped>\n",
       "    .dataframe tbody tr th:only-of-type {\n",
       "        vertical-align: middle;\n",
       "    }\n",
       "\n",
       "    .dataframe tbody tr th {\n",
       "        vertical-align: top;\n",
       "    }\n",
       "\n",
       "    .dataframe thead th {\n",
       "        text-align: right;\n",
       "    }\n",
       "</style>\n",
       "<table border=\"1\" class=\"dataframe\">\n",
       "  <thead>\n",
       "    <tr style=\"text-align: right;\">\n",
       "      <th></th>\n",
       "      <th>listing_id</th>\n",
       "      <th>id</th>\n",
       "      <th>date</th>\n",
       "      <th>reviewer_id</th>\n",
       "      <th>comments</th>\n",
       "    </tr>\n",
       "  </thead>\n",
       "  <tbody>\n",
       "    <tr>\n",
       "      <th>0</th>\n",
       "      <td>3109</td>\n",
       "      <td>207127433</td>\n",
       "      <td>2017-10-28</td>\n",
       "      <td>51636494</td>\n",
       "      <td>Tout s'est bien déroulé. Merci bien. PG</td>\n",
       "    </tr>\n",
       "    <tr>\n",
       "      <th>1</th>\n",
       "      <td>3109</td>\n",
       "      <td>208779822</td>\n",
       "      <td>2017-11-03</td>\n",
       "      <td>4142888</td>\n",
       "      <td>Un petit nid fouiller douillet situé dans  app...</td>\n",
       "    </tr>\n",
       "    <tr>\n",
       "      <th>2</th>\n",
       "      <td>3109</td>\n",
       "      <td>295840159</td>\n",
       "      <td>2018-07-24</td>\n",
       "      <td>7415343</td>\n",
       "      <td>Appartement spacieux, propre,clair, et calme à...</td>\n",
       "    </tr>\n",
       "    <tr>\n",
       "      <th>3</th>\n",
       "      <td>3109</td>\n",
       "      <td>553502638</td>\n",
       "      <td>2019-10-24</td>\n",
       "      <td>21159216</td>\n",
       "      <td>Appartement totalement rénové, en parfait état...</td>\n",
       "    </tr>\n",
       "    <tr>\n",
       "      <th>4</th>\n",
       "      <td>5396</td>\n",
       "      <td>4824</td>\n",
       "      <td>2009-06-30</td>\n",
       "      <td>19995</td>\n",
       "      <td>Perfect location!! Nasrine was a delight and m...</td>\n",
       "    </tr>\n",
       "    <tr>\n",
       "      <th>...</th>\n",
       "      <td>...</td>\n",
       "      <td>...</td>\n",
       "      <td>...</td>\n",
       "      <td>...</td>\n",
       "      <td>...</td>\n",
       "    </tr>\n",
       "    <tr>\n",
       "      <th>1999645</th>\n",
       "      <td>1236935838120106698</td>\n",
       "      <td>1243420523739709927</td>\n",
       "      <td>2024-09-11</td>\n",
       "      <td>430914385</td>\n",
       "      <td>excellent</td>\n",
       "    </tr>\n",
       "    <tr>\n",
       "      <th>1999646</th>\n",
       "      <td>1237019610223238525</td>\n",
       "      <td>1241222639331655295</td>\n",
       "      <td>2024-09-08</td>\n",
       "      <td>11879784</td>\n",
       "      <td>Très bel appartement parisien, avec une belle ...</td>\n",
       "    </tr>\n",
       "    <tr>\n",
       "      <th>1999647</th>\n",
       "      <td>1237042259061485682</td>\n",
       "      <td>1241152955077433804</td>\n",
       "      <td>2024-09-08</td>\n",
       "      <td>463363270</td>\n",
       "      <td>Appartement très propre et cosy le balcon est ...</td>\n",
       "    </tr>\n",
       "    <tr>\n",
       "      <th>1999648</th>\n",
       "      <td>1237042259061485682</td>\n",
       "      <td>1242696770405093531</td>\n",
       "      <td>2024-09-10</td>\n",
       "      <td>146476597</td>\n",
       "      <td>Perfekte Wohnung 5 Sterne,&lt;br/&gt;freundlicher Ga...</td>\n",
       "    </tr>\n",
       "    <tr>\n",
       "      <th>1999649</th>\n",
       "      <td>1237081091596854348</td>\n",
       "      <td>1241169909489423311</td>\n",
       "      <td>2024-09-08</td>\n",
       "      <td>417122992</td>\n",
       "      <td>Super week-end passé dans ce logement, on ne s...</td>\n",
       "    </tr>\n",
       "  </tbody>\n",
       "</table>\n",
       "<p>1999527 rows × 5 columns</p>\n",
       "</div>"
      ],
      "text/plain": [
       "                  listing_id                   id        date  reviewer_id  \\\n",
       "0                       3109            207127433  2017-10-28     51636494   \n",
       "1                       3109            208779822  2017-11-03      4142888   \n",
       "2                       3109            295840159  2018-07-24      7415343   \n",
       "3                       3109            553502638  2019-10-24     21159216   \n",
       "4                       5396                 4824  2009-06-30        19995   \n",
       "...                      ...                  ...         ...          ...   \n",
       "1999645  1236935838120106698  1243420523739709927  2024-09-11    430914385   \n",
       "1999646  1237019610223238525  1241222639331655295  2024-09-08     11879784   \n",
       "1999647  1237042259061485682  1241152955077433804  2024-09-08    463363270   \n",
       "1999648  1237042259061485682  1242696770405093531  2024-09-10    146476597   \n",
       "1999649  1237081091596854348  1241169909489423311  2024-09-08    417122992   \n",
       "\n",
       "                                                  comments  \n",
       "0                  Tout s'est bien déroulé. Merci bien. PG  \n",
       "1        Un petit nid fouiller douillet situé dans  app...  \n",
       "2        Appartement spacieux, propre,clair, et calme à...  \n",
       "3        Appartement totalement rénové, en parfait état...  \n",
       "4        Perfect location!! Nasrine was a delight and m...  \n",
       "...                                                    ...  \n",
       "1999645                                          excellent  \n",
       "1999646  Très bel appartement parisien, avec une belle ...  \n",
       "1999647  Appartement très propre et cosy le balcon est ...  \n",
       "1999648  Perfekte Wohnung 5 Sterne,<br/>freundlicher Ga...  \n",
       "1999649  Super week-end passé dans ce logement, on ne s...  \n",
       "\n",
       "[1999527 rows x 5 columns]"
      ]
     },
     "execution_count": 10,
     "metadata": {},
     "output_type": "execute_result"
    }
   ],
   "source": [
    "rev_df = rev_df.dropna(subset=['comments'])\n",
    "rev_df"
   ]
  },
  {
   "cell_type": "code",
   "execution_count": 11,
   "metadata": {},
   "outputs": [
    {
     "data": {
      "text/plain": [
       "listing_id     0\n",
       "id             0\n",
       "date           0\n",
       "reviewer_id    0\n",
       "comments       0\n",
       "dtype: int64"
      ]
     },
     "execution_count": 11,
     "metadata": {},
     "output_type": "execute_result"
    }
   ],
   "source": [
    "rev_df.isnull().sum()"
   ]
  },
  {
   "cell_type": "code",
   "execution_count": 12,
   "metadata": {},
   "outputs": [],
   "source": [
    "##This function will return the full output of the API call:\n",
    " \n",
    "def get_completion(prompt, model=\"gpt-4o-mini\", temperature=0):\n",
    "    messages = [{\"role\": \"user\", \"content\": prompt}]\n",
    "    response = client.chat.completions.create(\n",
    "        model=model,\n",
    "        messages=messages,\n",
    "        temperature = temperature\n",
    "    )\n",
    "    return response.choices[0].message.content"
   ]
  },
  {
   "cell_type": "code",
   "execution_count": 13,
   "metadata": {},
   "outputs": [
    {
     "data": {
      "text/plain": [
       "1999527"
      ]
     },
     "execution_count": 13,
     "metadata": {},
     "output_type": "execute_result"
    }
   ],
   "source": [
    "length = len(rev_df)\n",
    "length"
   ]
  },
  {
   "cell_type": "code",
   "execution_count": 14,
   "metadata": {},
   "outputs": [
    {
     "name": "stdout",
     "output_type": "stream",
     "text": [
      "Tout s'est bien déroulé. Merci bien. PG\n"
     ]
    }
   ],
   "source": [
    "sample = rev_df['comments'][0]\n",
    "print(sample)"
   ]
  },
  {
   "cell_type": "code",
   "execution_count": 15,
   "metadata": {},
   "outputs": [
    {
     "ename": "NameError",
     "evalue": "name 'client' is not defined",
     "output_type": "error",
     "traceback": [
      "\u001b[1;31m---------------------------------------------------------------------------\u001b[0m",
      "\u001b[1;31mNameError\u001b[0m                                 Traceback (most recent call last)",
      "Cell \u001b[1;32mIn[15], line 16\u001b[0m\n\u001b[0;32m      1\u001b[0m prompt \u001b[38;5;241m=\u001b[39m \u001b[38;5;124mf\u001b[39m\u001b[38;5;124m\"\"\"\u001b[39m\n\u001b[0;32m      2\u001b[0m \u001b[38;5;124mPerform the following actions using an input with the text delimited by \u001b[39m\u001b[38;5;124m'\u001b[39m\u001b[38;5;124m'\u001b[39m\u001b[38;5;124m'\u001b[39m\u001b[38;5;124m:\u001b[39m\n\u001b[0;32m      3\u001b[0m \n\u001b[1;32m   (...)\u001b[0m\n\u001b[0;32m     14\u001b[0m \u001b[38;5;124m'\u001b[39m\u001b[38;5;124m'\u001b[39m\u001b[38;5;124m'\u001b[39m\u001b[38;5;132;01m{\u001b[39;00msample\u001b[38;5;132;01m}\u001b[39;00m\u001b[38;5;124m'\u001b[39m\u001b[38;5;124m'\u001b[39m\u001b[38;5;124m'\u001b[39m\n\u001b[0;32m     15\u001b[0m \u001b[38;5;124m\"\"\"\u001b[39m\n\u001b[1;32m---> 16\u001b[0m response \u001b[38;5;241m=\u001b[39m get_completion(prompt)\n\u001b[0;32m     17\u001b[0m \u001b[38;5;28mprint\u001b[39m(response)\n",
      "Cell \u001b[1;32mIn[12], line 5\u001b[0m, in \u001b[0;36mget_completion\u001b[1;34m(prompt, model, temperature)\u001b[0m\n\u001b[0;32m      3\u001b[0m \u001b[38;5;28;01mdef\u001b[39;00m \u001b[38;5;21mget_completion\u001b[39m(prompt, model\u001b[38;5;241m=\u001b[39m\u001b[38;5;124m\"\u001b[39m\u001b[38;5;124mgpt-4o-mini\u001b[39m\u001b[38;5;124m\"\u001b[39m, temperature\u001b[38;5;241m=\u001b[39m\u001b[38;5;241m0\u001b[39m):\n\u001b[0;32m      4\u001b[0m     messages \u001b[38;5;241m=\u001b[39m [{\u001b[38;5;124m\"\u001b[39m\u001b[38;5;124mrole\u001b[39m\u001b[38;5;124m\"\u001b[39m: \u001b[38;5;124m\"\u001b[39m\u001b[38;5;124muser\u001b[39m\u001b[38;5;124m\"\u001b[39m, \u001b[38;5;124m\"\u001b[39m\u001b[38;5;124mcontent\u001b[39m\u001b[38;5;124m\"\u001b[39m: prompt}]\n\u001b[1;32m----> 5\u001b[0m     response \u001b[38;5;241m=\u001b[39m client\u001b[38;5;241m.\u001b[39mchat\u001b[38;5;241m.\u001b[39mcompletions\u001b[38;5;241m.\u001b[39mcreate(\n\u001b[0;32m      6\u001b[0m         model\u001b[38;5;241m=\u001b[39mmodel,\n\u001b[0;32m      7\u001b[0m         messages\u001b[38;5;241m=\u001b[39mmessages,\n\u001b[0;32m      8\u001b[0m         temperature \u001b[38;5;241m=\u001b[39m temperature\n\u001b[0;32m      9\u001b[0m     )\n\u001b[0;32m     10\u001b[0m     \u001b[38;5;28;01mreturn\u001b[39;00m response\u001b[38;5;241m.\u001b[39mchoices[\u001b[38;5;241m0\u001b[39m]\u001b[38;5;241m.\u001b[39mmessage\u001b[38;5;241m.\u001b[39mcontent\n",
      "\u001b[1;31mNameError\u001b[0m: name 'client' is not defined"
     ]
    }
   ],
   "source": [
    "prompt = f\"\"\"\n",
    "Perform the following actions using an input with the text delimited by ''':\n",
    "\n",
    "1 - Translate the comments into English. \n",
    "2 - Pick out two key words from the comment. \n",
    "3 - State whether the comment is a negative or positive review based of the words used. \n",
    "\n",
    "Use the following format:\n",
    "Translation: <task 1>\n",
    "Key words: <task 2>\n",
    "Negative or Positive: <task 3>\n",
    "\n",
    "Text:\n",
    "'''{sample}'''\n",
    "\"\"\"\n",
    "response = get_completion(prompt)\n",
    "print(response)"
   ]
  }
 ],
 "metadata": {
  "kernelspec": {
   "display_name": "base",
   "language": "python",
   "name": "python3"
  },
  "language_info": {
   "codemirror_mode": {
    "name": "ipython",
    "version": 3
   },
   "file_extension": ".py",
   "mimetype": "text/x-python",
   "name": "python",
   "nbconvert_exporter": "python",
   "pygments_lexer": "ipython3",
   "version": "3.12.3"
  }
 },
 "nbformat": 4,
 "nbformat_minor": 2
}
